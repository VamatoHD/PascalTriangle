{
 "cells": [
  {
   "cell_type": "code",
   "execution_count": null,
   "metadata": {},
   "outputs": [],
   "source": [
    "#Imports\n",
    "import time\n",
    "import numpy as np\n",
    "import matplotlib.pyplot as plt\n",
    "from tqdm import tqdm\n",
    "tests = range(1,5000,100)\n"
   ]
  },
  {
   "cell_type": "markdown",
   "metadata": {},
   "source": [
    "## Versions"
   ]
  },
  {
   "cell_type": "markdown",
   "metadata": {},
   "source": [
    "### Version 1 - Iterative unoptimized"
   ]
  },
  {
   "cell_type": "code",
   "execution_count": null,
   "metadata": {},
   "outputs": [],
   "source": [
    "def PascalTree1(line:int):\n",
    "    if line == 1:\n",
    "        return [1]\n",
    "    cur = [1,1]\n",
    "\n",
    "    for _ in range(2,line):\n",
    "        new = [1]\n",
    "        for i in range(len(cur)-1):\n",
    "            new.append(cur[i]+cur[i+1])\n",
    "        new.append(1)\n",
    "        cur = new\n",
    "    return cur"
   ]
  },
  {
   "cell_type": "markdown",
   "metadata": {},
   "source": [
    "### Version 2 - Iterative w/ in place memory allocation"
   ]
  },
  {
   "cell_type": "code",
   "execution_count": null,
   "metadata": {},
   "outputs": [],
   "source": [
    "def PascalTree2(line: int):\n",
    "    if line == 1:\n",
    "        return [1]\n",
    "    cur = [1, 1]\n",
    "\n",
    "    for _ in range(2, line):\n",
    "        for i in range(len(cur) - 1):\n",
    "            cur[i] += cur[i + 1]\n",
    "        cur = [1] + cur\n",
    "    return cur"
   ]
  },
  {
   "cell_type": "markdown",
   "metadata": {},
   "source": [
    "### Version 3 - Version 3 but more memory efficient"
   ]
  },
  {
   "cell_type": "code",
   "execution_count": null,
   "metadata": {},
   "outputs": [],
   "source": [
    "def PascalTree3(line:int):\n",
    "    if line == 1:\n",
    "        return [1]\n",
    "    cur = [1,1]\n",
    "\n",
    "    for _ in range(2,line):\n",
    "        for i in range(len(cur)-1,0,-1):\n",
    "            cur[i] += cur[i-1]\n",
    "        cur += [1]\n",
    "    return cur"
   ]
  },
  {
   "cell_type": "markdown",
   "metadata": {},
   "source": [
    "## Measuring"
   ]
  },
  {
   "cell_type": "code",
   "execution_count": null,
   "metadata": {},
   "outputs": [],
   "source": [
    "def measure(func,tries,max_t):\n",
    "    times = []\n",
    "    for n in tqdm(tests,leave = False):\n",
    "        total = 0\n",
    "        for _ in range(tries):\n",
    "            start = time.time()\n",
    "            func(n)\n",
    "            end = time.time()\n",
    "            total += end - start\n",
    "        t = total/tries\n",
    "        times.append(t)\n",
    "\n",
    "        if t > max_t:\n",
    "            return times\n",
    "        \n",
    "    return times"
   ]
  },
  {
   "cell_type": "code",
   "execution_count": null,
   "metadata": {},
   "outputs": [],
   "source": [
    "times_1 = measure(PascalTree1,5,2)\n",
    "times_2 = measure(PascalTree2,5,2)\n",
    "times_3 = measure(PascalTree3,5,2)"
   ]
  },
  {
   "cell_type": "markdown",
   "metadata": {},
   "source": [
    "## Graph"
   ]
  },
  {
   "cell_type": "code",
   "execution_count": null,
   "metadata": {},
   "outputs": [],
   "source": [
    "plt.figure(figsize=(15,8))\n",
    "plt.plot(tests[:len(times_1)],times_1,marker=\"o\",color=\"b\")\n",
    "plt.plot(tests[:len(times_2)],times_2,marker=\"o\",color=\"r\")\n",
    "plt.plot(tests[:len(times_3)],times_3,marker=\"o\",color=\"g\")\n",
    "plt.xlabel(\"Linha\")\n",
    "plt.ylabel(\"Tempo (s)\")\n",
    "plt.grid(True)\n",
    "plt.show()"
   ]
  }
 ],
 "metadata": {
  "kernelspec": {
   "display_name": "Python 3",
   "language": "python",
   "name": "python3"
  },
  "language_info": {
   "codemirror_mode": {
    "name": "ipython",
    "version": 3
   },
   "file_extension": ".py",
   "mimetype": "text/x-python",
   "name": "python",
   "nbconvert_exporter": "python",
   "pygments_lexer": "ipython3",
   "version": "3.13.2"
  }
 },
 "nbformat": 4,
 "nbformat_minor": 2
}
